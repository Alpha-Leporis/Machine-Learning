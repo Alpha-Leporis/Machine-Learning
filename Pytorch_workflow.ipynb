{
  "nbformat": 4,
  "nbformat_minor": 0,
  "metadata": {
    "colab": {
      "provenance": [],
      "gpuType": "T4",
      "authorship_tag": "ABX9TyMh2AgY79U2/YZK9a3jaspo",
      "include_colab_link": true
    },
    "kernelspec": {
      "name": "python3",
      "display_name": "Python 3"
    },
    "language_info": {
      "name": "python"
    },
    "accelerator": "GPU"
  },
  "cells": [
    {
      "cell_type": "markdown",
      "metadata": {
        "id": "view-in-github",
        "colab_type": "text"
      },
      "source": [
        "<a href=\"https://colab.research.google.com/github/itsmeaby/Machine-Learning/blob/main/Pytorch_workflow.ipynb\" target=\"_parent\"><img src=\"https://colab.research.google.com/assets/colab-badge.svg\" alt=\"Open In Colab\"/></a>"
      ]
    },
    {
      "cell_type": "markdown",
      "source": [
        "# Pytorch Workflow\n",
        "\n",
        "Let's explore an example PyTorch end-to-end workflow."
      ],
      "metadata": {
        "id": "evBZqlmQi7z2"
      }
    },
    {
      "cell_type": "code",
      "source": [
        "what_were_covering = {1: \"data (prepare and load)\",\n",
        "                      2: \"build model\",\n",
        "                      3: \"fitting the model to data (training)\",\n",
        "                      4: \"making predictions and evaluating a model (infrence)\",\n",
        "                      5: \"save and load model\",\n",
        "                      6: \"putting it all together\"}"
      ],
      "metadata": {
        "id": "5OI9E1HRlAlV"
      },
      "execution_count": 2,
      "outputs": []
    },
    {
      "cell_type": "code",
      "source": [
        "import torch\n",
        "from torch import nn   # nn contains all of PyTorch's building block for neural network\n",
        "import numpy as np\n",
        "import pandas as pd\n",
        "import matplotlib.pyplot as plt\n",
        "\n",
        "# Check PyTorch version\n",
        "torch.__version__"
      ],
      "metadata": {
        "id": "yOhU4kboi-aT",
        "colab": {
          "base_uri": "https://localhost:8080/",
          "height": 35
        },
        "outputId": "25d5dc0a-fec5-4e38-ea30-3ef25cfaf360"
      },
      "execution_count": 3,
      "outputs": [
        {
          "output_type": "execute_result",
          "data": {
            "text/plain": [
              "'2.1.0+cu118'"
            ],
            "application/vnd.google.colaboratory.intrinsic+json": {
              "type": "string"
            }
          },
          "metadata": {},
          "execution_count": 3
        }
      ]
    },
    {
      "cell_type": "markdown",
      "source": [
        "## Data (preparing and loading)\n",
        "\n",
        "Data can be almost anything ..  in machine learning\n",
        "\n",
        "* Excel spreadsheet\n",
        "* Images of any kind\n",
        "* Videos ( YT has lots of data )\n",
        "* Audio\n",
        "* DNA\n",
        "* Text\n",
        "\n",
        "Machine learning is a game of two parts:\n",
        "1. get data into a numbercial representation.\n",
        "2. Build a model to learn patterns in thet numerical representation.\n",
        "\n",
        "we'll use a linear regression formula to make a straight line with known **parameters**."
      ],
      "metadata": {
        "id": "5MvZZKoEly2x"
      }
    },
    {
      "cell_type": "code",
      "source": [
        "# Create *Known* parameters\n",
        "\n",
        "weight = 0.7\n",
        "bias = 0.3\n",
        "\n",
        "# create\n",
        "start = 0\n",
        "end = 1\n",
        "step = 0.02\n",
        "X = torch.arange(start,end,step).unsqueeze(dim=1)\n",
        "y = weight * X + bias   # y = mx + c\n",
        "\n",
        "X[:10], y[:10]"
      ],
      "metadata": {
        "id": "-7_jAYhOlKci",
        "colab": {
          "base_uri": "https://localhost:8080/"
        },
        "outputId": "dff731d6-9231-4ff2-cc1a-9a27dd780b75"
      },
      "execution_count": 4,
      "outputs": [
        {
          "output_type": "execute_result",
          "data": {
            "text/plain": [
              "(tensor([[0.0000],\n",
              "         [0.0200],\n",
              "         [0.0400],\n",
              "         [0.0600],\n",
              "         [0.0800],\n",
              "         [0.1000],\n",
              "         [0.1200],\n",
              "         [0.1400],\n",
              "         [0.1600],\n",
              "         [0.1800]]),\n",
              " tensor([[0.3000],\n",
              "         [0.3140],\n",
              "         [0.3280],\n",
              "         [0.3420],\n",
              "         [0.3560],\n",
              "         [0.3700],\n",
              "         [0.3840],\n",
              "         [0.3980],\n",
              "         [0.4120],\n",
              "         [0.4260]]))"
            ]
          },
          "metadata": {},
          "execution_count": 4
        }
      ]
    },
    {
      "cell_type": "markdown",
      "source": [
        "## spliting data into training and test sets\n",
        "\n",
        "**Generalization**: the ability for a ML model to perform well on data it hasn't seen before.\n",
        "\n",
        "Let's create training and test set with our data."
      ],
      "metadata": {
        "id": "Vq9Rmqp7o4V2"
      }
    },
    {
      "cell_type": "code",
      "source": [
        "# Create a train/test split\n",
        "\n",
        "train_split = int(0.8 * len(X))\n",
        "X_train, y_train = X[:train_split],y[:train_split]\n",
        "X_test, y_test = X[train_split:],y[train_split:]\n",
        "\n",
        "len(X_train), len(y_train) , len(X_test), len(y_test)"
      ],
      "metadata": {
        "id": "d881yZsaoSdW",
        "colab": {
          "base_uri": "https://localhost:8080/"
        },
        "outputId": "83151d55-8ef1-4e0f-8199-4e26ab36d352"
      },
      "execution_count": 5,
      "outputs": [
        {
          "output_type": "execute_result",
          "data": {
            "text/plain": [
              "(40, 40, 10, 10)"
            ]
          },
          "metadata": {},
          "execution_count": 5
        }
      ]
    },
    {
      "cell_type": "markdown",
      "source": [
        "## How might we better visualize our data?\n",
        "\n",
        "This is where the data explorer's motto comes in!"
      ],
      "metadata": {
        "id": "oeH-JMHvrJ2j"
      }
    },
    {
      "cell_type": "code",
      "source": [
        "def plot_predictions(train_data =X_train,\n",
        "                     train_labels=y_train,\n",
        "                     test_data=X_test,\n",
        "                     test_labels=y_test,\n",
        "                     predictions=None):\n",
        "\n",
        "  \"\"\"\n",
        "  Plots traing data, test data and comprass predictions.\n",
        "  \"\"\"\n",
        "  plt.figure(figsize=(10,7))\n",
        "\n",
        "  # Plot training data in blue\n",
        "  plt.scatter(train_data,train_labels,c=\"b\",s=4,label=\"Training data\")\n",
        "\n",
        "  #plot test data in green\n",
        "  plt.scatter(test_data,test_labels,c=\"g\",s=4,label=\"Test data\")\n",
        "\n",
        "  # Are there prdictions\n",
        "  if predictions is not None:\n",
        "    #plot the predictions if tghey exist\n",
        "    plt.scatter(test_data,predictions,c=\"r\",s=4,label=\"Predictions\")\n",
        "\n",
        "  # Show the legend\n",
        "  plt.legend(prop={\"size\":14});\n"
      ],
      "metadata": {
        "id": "YMRIunR7qzc0"
      },
      "execution_count": 6,
      "outputs": []
    },
    {
      "cell_type": "code",
      "source": [
        "plot_predictions()"
      ],
      "metadata": {
        "id": "rzGJNczjrEOf",
        "colab": {
          "base_uri": "https://localhost:8080/",
          "height": 479
        },
        "outputId": "7d6237cb-a62e-4607-a07b-e67a3599f2e7"
      },
      "execution_count": 7,
      "outputs": [
        {
          "output_type": "display_data",
          "data": {
            "text/plain": [
              "<Figure size 1000x700 with 1 Axes>"
            ],
            "image/png": "[encoded data removed]"
          },
          "metadata": {}
        }
      ]
    },
    {
      "cell_type": "markdown",
      "source": [
        "## Build model\n",
        "\n",
        "Our first model in PyTorch!\n",
        "\n",
        "python classes: https://realpython.com/python-classes/\n",
        "\n",
        "what our model does:\n",
        "* Start with andom values (weight & bias)\n",
        "* Look at training data and adjust the random values to better represent (or get closer to) the ideal values (the weight & bias values we used to create the data)\n",
        "\n",
        "How does it do so?\n",
        "\n",
        "Through two main algorithems:\n",
        "1. Gradient descent\n",
        "2. Backpropogation"
      ],
      "metadata": {
        "id": "tavXlpDGuIj6"
      }
    },
    {
      "cell_type": "code",
      "source": [
        "from torch import nn\n",
        "\n",
        "# Create a Linear Regression model class\n",
        "class LinearRegressionModel(nn.Module): # <- almost everything in PyTorch is a nn.Module (this containes all the building blocks for neural networks)\n",
        "    def __init__(self):\n",
        "        super().__init__()\n",
        "\n",
        "        # Initialize model parameters\n",
        "        self.weights = nn.Parameter(torch.randn(1, # <- start with random weights (this will get adjusted as the model learns)\n",
        "                                                dtype=torch.float), # <- PyTorch loves float32 by default\n",
        "                                   requires_grad=True) # <- can we update this value with gradient descent?)\n",
        "\n",
        "        self.bias = nn.Parameter(torch.randn(1, # <- start with random bias (this will get adjusted as the model learns)\n",
        "                                            dtype=torch.float), # <- PyTorch loves float32 by default\n",
        "                                requires_grad=True) # <- can we update this value with gradient descent?))\n",
        "\n",
        "    # forward() -> This defines the forward computation of the model\n",
        "    def forward(self, x: torch.Tensor) -> torch.Tensor: # <- \"x\" is the input data (e.g. training/testing features)\n",
        "        return self.weights * x + self.bias # <- this is the linear regression formula (y = m*x + b)"
      ],
      "metadata": {
        "id": "JwV4XG_ztVMw"
      },
      "execution_count": 8,
      "outputs": []
    },
    {
      "cell_type": "markdown",
      "source": [
        "## PyTorch model building essentials\n",
        "\n",
        "* torch.nn  ->  contain all of the building blocks of computational graph ( neural network can be considered as a computetional graph).\n",
        "* torch.nn.Parameter -> what parameters should our model try and learn, often a PyTorch layer from torch.nn will set these for us.\n",
        "* torch.nn.Module  -> The base class for all neural networks modules, if you subclass it, you should overwrite forward().\n",
        "* torch.optim  -> this is where the optimizer in PyTorch live, they will help with gradient descent.\n",
        "* def forward()  ->  All nn.Module subclasses require you to overwrite forward(), this method defines what happens in the forward computation.\n",
        "\n",
        "* torch.utils.data.Dataset\n",
        "* torch.utils.data.Dataloader\n",
        "* torchvision.transforms\n",
        "* torchvision.models -> pretrained vision models\n",
        "* torch.matrix\n",
        "\n",
        "**pyTorch cheetshit**: https://pytorch.org/tutorials/beginner/ptcheat.html"
      ],
      "metadata": {
        "id": "wbbvN0O_7h-6"
      }
    },
    {
      "cell_type": "markdown",
      "source": [
        "## Checking the contents of our PyTorch model\n",
        "\n",
        "Now we've created a model, let's see what's inside...\n",
        "\n",
        "So we can check our model parameters or what's indside our model using `.parameters()`."
      ],
      "metadata": {
        "id": "lRNTMyCG-a4w"
      }
    },
    {
      "cell_type": "code",
      "source": [
        "# Create a random seed\n",
        "torch.manual_seed(42)\n",
        "\n",
        "#Create an instance of the model (this is a subclass of nn.Module)\n",
        "model_0 = LinearRegressionModel()\n",
        "\n",
        "#Check out the parameters\n",
        "list(model_0.parameters())"
      ],
      "metadata": {
        "id": "DcxxJ6LfLPzR",
        "colab": {
          "base_uri": "https://localhost:8080/"
        },
        "outputId": "04b9f865-ebf6-4540-9687-92e3ff78275e"
      },
      "execution_count": 9,
      "outputs": [
        {
          "output_type": "execute_result",
          "data": {
            "text/plain": [
              "[Parameter containing:\n",
              " tensor([0.3367], requires_grad=True),\n",
              " Parameter containing:\n",
              " tensor([0.1288], requires_grad=True)]"
            ]
          },
          "metadata": {},
          "execution_count": 9
        }
      ]
    },
    {
      "cell_type": "code",
      "source": [
        "# List named parameters\n",
        "model_0.state_dict()"
      ],
      "metadata": {
        "id": "ZdweiGlL_BdM",
        "colab": {
          "base_uri": "https://localhost:8080/"
        },
        "outputId": "11e2f28d-2ddf-414f-9744-72cf82163389"
      },
      "execution_count": 10,
      "outputs": [
        {
          "output_type": "execute_result",
          "data": {
            "text/plain": [
              "OrderedDict([('weights', tensor([0.3367])), ('bias', tensor([0.1288]))])"
            ]
          },
          "metadata": {},
          "execution_count": 10
        }
      ]
    },
    {
      "cell_type": "markdown",
      "source": [
        "## Making prediction using `torch.inference_mode()`\n",
        "\n",
        "To check our model's predictive power, let's see how well it predicts `y_test` based on `X_test`.\n",
        "when we pass data through our model, it's going to run through the `forward()` method.\n",
        "\n",
        "* see more on inference mode here ->  https://twitter.com/PyTorch/status/1437838231505096708"
      ],
      "metadata": {
        "id": "cw57darVBBAN"
      }
    },
    {
      "cell_type": "code",
      "source": [
        "y_pred = model_0(X_test)\n",
        "y_pred"
      ],
      "metadata": {
        "id": "EqLQi7ZpDjxE",
        "colab": {
          "base_uri": "https://localhost:8080/"
        },
        "outputId": "d0ad893c-ead7-410f-a8a1-420e0f5d63cc"
      },
      "execution_count": 11,
      "outputs": [
        {
          "output_type": "execute_result",
          "data": {
            "text/plain": [
              "tensor([[0.3982],\n",
              "        [0.4049],\n",
              "        [0.4116],\n",
              "        [0.4184],\n",
              "        [0.4251],\n",
              "        [0.4318],\n",
              "        [0.4386],\n",
              "        [0.4453],\n",
              "        [0.4520],\n",
              "        [0.4588]], grad_fn=<AddBackward0>)"
            ]
          },
          "metadata": {},
          "execution_count": 11
        }
      ]
    },
    {
      "cell_type": "code",
      "source": [
        "# Make predictions with model\n",
        "with torch.inference_mode():\n",
        "  y_pred = model_0(X_test)\n",
        "\n",
        "y_pred\n",
        "\n",
        "## You can also do something similar with torch.no_grad()\n",
        "# with torch.no_grad():\n",
        "#   y_preds = model_0(X_test)\n",
        "#y_pred"
      ],
      "metadata": {
        "id": "SEQ6LC77_u6F",
        "colab": {
          "base_uri": "https://localhost:8080/"
        },
        "outputId": "f39384c2-d847-4650-8446-0900705b5fc3"
      },
      "execution_count": 12,
      "outputs": [
        {
          "output_type": "execute_result",
          "data": {
            "text/plain": [
              "tensor([[0.3982],\n",
              "        [0.4049],\n",
              "        [0.4116],\n",
              "        [0.4184],\n",
              "        [0.4251],\n",
              "        [0.4318],\n",
              "        [0.4386],\n",
              "        [0.4453],\n",
              "        [0.4520],\n",
              "        [0.4588]])"
            ]
          },
          "metadata": {},
          "execution_count": 12
        }
      ]
    },
    {
      "cell_type": "code",
      "source": [
        "y_test"
      ],
      "metadata": {
        "id": "g6gHbljA_7DD",
        "colab": {
          "base_uri": "https://localhost:8080/"
        },
        "outputId": "529c6773-e4ee-43e8-c054-1a29cbc1c6ce"
      },
      "execution_count": 13,
      "outputs": [
        {
          "output_type": "execute_result",
          "data": {
            "text/plain": [
              "tensor([[0.8600],\n",
              "        [0.8740],\n",
              "        [0.8880],\n",
              "        [0.9020],\n",
              "        [0.9160],\n",
              "        [0.9300],\n",
              "        [0.9440],\n",
              "        [0.9580],\n",
              "        [0.9720],\n",
              "        [0.9860]])"
            ]
          },
          "metadata": {},
          "execution_count": 13
        }
      ]
    },
    {
      "cell_type": "code",
      "source": [
        "plot_predictions(predictions=y_pred)"
      ],
      "metadata": {
        "id": "PBoQK5eOCvt7",
        "colab": {
          "base_uri": "https://localhost:8080/",
          "height": 479
        },
        "outputId": "cbb74489-caed-483d-b0ae-8729a9cad35b"
      },
      "execution_count": 14,
      "outputs": [
        {
          "output_type": "display_data",
          "data": {
            "text/plain": [
              "<Figure size 1000x700 with 1 Axes>"
            ],
            "image/png": "[encoded data removed]"
          },
          "metadata": {}
        }
      ]
    },
    {
      "cell_type": "markdown",
      "source": [
        "## Train model\n",
        "\n",
        "the whole idea for a model to move from some *unknown* parameters (these may be random) to some known parameters.\n",
        "Or in ither words a poor representation of the data to a better representation of the data.\n",
        "\n",
        "one way to measure how poor or how wrong your models predictions are is to use a loss function.\n",
        "\n",
        "* **Note:** Loss function may also be called cost function or criterion in diffrent areas. For our case, we're going to refer to it as a loss function.\n",
        "\n",
        "Things we need to train:\n",
        "\n",
        "* **Loss function:** A function to measure how wrong model's predictions are to the ideal outputs, lower is better.\n",
        "* **optimizer:** Takes into acciunt the loss of a model and adjust the model's parameters (e.g. weight & bias in our case) to improve the loss function - https://pytorch.org/docs/stable/optim.html\n",
        "  * inside the optimizer you'll often have to set two parameters:\n",
        "  \n",
        "    * `params` - the model parameters you'd like to optimize, for example `params=model_0.parameters()`\n",
        "    * `lr` (learning rate) - the learning rate is a hyperparameter that after defines how big/small the optimizer changes the parameters with each step (a small `lr` results in small changes, a large `lr` results in large changes)\n",
        "\n",
        "And specifically for PyTorch, we need:\n",
        "* A training loop\n",
        "* A testing loop"
      ],
      "metadata": {
        "id": "WbwYufALFBab"
      }
    },
    {
      "cell_type": "code",
      "source": [
        "list(model_0.parameters())"
      ],
      "metadata": {
        "id": "-teepyxzHKGM",
        "colab": {
          "base_uri": "https://localhost:8080/"
        },
        "outputId": "3227809e-bbc4-4b28-e6a8-fc492eac4b11"
      },
      "execution_count": 15,
      "outputs": [
        {
          "output_type": "execute_result",
          "data": {
            "text/plain": [
              "[Parameter containing:\n",
              " tensor([0.3367], requires_grad=True),\n",
              " Parameter containing:\n",
              " tensor([0.1288], requires_grad=True)]"
            ]
          },
          "metadata": {},
          "execution_count": 15
        }
      ]
    },
    {
      "cell_type": "code",
      "source": [
        "# Check out our model parameters (a parameter is a value the model sets itself)\n",
        "model_0.state_dict()"
      ],
      "metadata": {
        "id": "3jei1OfnC3An",
        "colab": {
          "base_uri": "https://localhost:8080/"
        },
        "outputId": "0c2d50f4-7934-4f20-9a64-ec6b922694cd"
      },
      "execution_count": 16,
      "outputs": [
        {
          "output_type": "execute_result",
          "data": {
            "text/plain": [
              "OrderedDict([('weights', tensor([0.3367])), ('bias', tensor([0.1288]))])"
            ]
          },
          "metadata": {},
          "execution_count": 16
        }
      ]
    },
    {
      "cell_type": "code",
      "source": [
        "# Setup a loss function\n",
        "loss_fn = nn.L1Loss()\n",
        "\n",
        "# Setup an optimizer (stochastic gradient descent)\n",
        "optimizer = torch.optim.SGD(params=model_0.parameters(),\n",
        "                            lr=0.01) # lr = learning rate  -> possibaly the most important hyperparameter\n"
      ],
      "metadata": {
        "id": "tDK90szFI40i"
      },
      "execution_count": 17,
      "outputs": []
    },
    {
      "cell_type": "markdown",
      "source": [
        "**Q:** Which loss function and optimizer should I use ?\n",
        "\n",
        "**A:** This will be problm specific. But with experience, you'll get an idea of what works and what doesn't with your particular\n",
        "\n",
        "For examle, for a regression prblem (like ours), a loss function of `nn.L1Loss()` and an optimizer like `torch.optim.SGD()` will suffice.\n",
        "\n",
        "But for a classification problem like classification whether a photo os of dog or a cat, you'll likely want to use a loss function of `nn.BCELoss()` (binary cross entropy loss)"
      ],
      "metadata": {
        "id": "SrduoLvFXa7j"
      }
    },
    {
      "cell_type": "markdown",
      "source": [
        "## Building a training loop (and a testing loop) in pytorch\n",
        "\n",
        "A couple of things we need in a training loop:\n",
        "\n",
        "0. loop through the data and do..\n",
        "1. Forward pass (this involves data moving through our model's `froward()` functions) to make predictions on data - also called **forward propogation**\n",
        "2. Calculate the loss (compare forward pass predictions to ground truth labels)\n",
        "3. Optimizer zero grad\n",
        "4. Loss forward - move backwards throgh network to calculate the gradients of each of the parameters of our model with respect to the loss - also called (**backpropogation**)\n",
        "5. optimizer step - use the optimizer adjust our model's parameters to try and improve he loss. - also called (**gradient descent**)"
      ],
      "metadata": {
        "id": "Zb_aBgeXab1g"
      }
    },
    {
      "cell_type": "code",
      "source": [
        "X_test, y_test"
      ],
      "metadata": {
        "id": "GR_XDB0ngILp",
        "colab": {
          "base_uri": "https://localhost:8080/"
        },
        "outputId": "914eb0ac-f8ec-4c15-e43f-fa741680c2ef"
      },
      "execution_count": 18,
      "outputs": [
        {
          "output_type": "execute_result",
          "data": {
            "text/plain": [
              "(tensor([[0.8000],\n",
              "         [0.8200],\n",
              "         [0.8400],\n",
              "         [0.8600],\n",
              "         [0.8800],\n",
              "         [0.9000],\n",
              "         [0.9200],\n",
              "         [0.9400],\n",
              "         [0.9600],\n",
              "         [0.9800]]),\n",
              " tensor([[0.8600],\n",
              "         [0.8740],\n",
              "         [0.8880],\n",
              "         [0.9020],\n",
              "         [0.9160],\n",
              "         [0.9300],\n",
              "         [0.9440],\n",
              "         [0.9580],\n",
              "         [0.9720],\n",
              "         [0.9860]]))"
            ]
          },
          "metadata": {},
          "execution_count": 18
        }
      ]
    },
    {
      "cell_type": "code",
      "source": [
        "torch.manual_seed(42)\n",
        "# An epoch is one loop throgh the data... (this is a hyperparameter)\n",
        "epochs = 200\n",
        "\n",
        "# Track different values\n",
        "epoch_count = []\n",
        "loss_values = []\n",
        "test_loss_values = []\n",
        "\n",
        "### Training\n",
        "# 0. Loop throgh the data\n",
        "for epoch in range(epochs):\n",
        "  # Set the model to training mode\n",
        "  model_0.train() # Train mode in PyTorch sets all parameters that require gradients to require gradients\n",
        "\n",
        "  # 1.Forward pass\n",
        "  y_pred = model_0(X_train)\n",
        "\n",
        "  # 2.Calculate the loss\n",
        "  loss = loss_fn(y_pred, y_train)\n",
        "  #print(f\"Loss: {loss}\")\n",
        "\n",
        "  # 3.Optimizer zero grad\n",
        "  optimizer.zero_grad()\n",
        "\n",
        "  # 4.Perform backpropogation on the loss with respect to the parameters of the model\n",
        "  loss.backward()\n",
        "\n",
        "  # 5.setp the optimizer (perform gradient descent)\n",
        "  optimizer.step() # by default changes will accumulate throgh the loop so.. we have to zero them above in step 3 for the next iteration of the loop\n",
        "\n",
        "  ### Testing\n",
        "  # Put the model in evaluation mode\n",
        "  model_0.eval() # turn off gradient tracking\n",
        "\n",
        "  with torch.inference_mode():  # this turn off gradient descent tracking & A couple of things behind the scenes\n",
        "    # 1.Do the forward pass\n",
        "    test_pred = model_0(X_test)\n",
        "\n",
        "    # 2.Calculate the loss\n",
        "    test_loss = loss_fn(test_pred, y_test)\n",
        "\n",
        "  # Print out what's happenin'\n",
        "  if epoch % 10 == 0:\n",
        "    epoch_count.append(epoch)\n",
        "    loss_values.append(loss)\n",
        "    test_loss_values.append(test_loss)\n",
        "    print(f\"Epoch: {epoch} | Loss: {loss} | Test loss: {test_loss}\")\n",
        "    # Print out model state_dict()\n",
        "    print(model_0.state_dict())"
      ],
      "metadata": {
        "id": "TJpjvB2gHN3T",
        "colab": {
          "base_uri": "https://localhost:8080/"
        },
        "outputId": "2ca72a46-cc4f-48ac-9efa-59242f117e53"
      },
      "execution_count": 19,
      "outputs": [
        {
          "output_type": "stream",
          "name": "stdout",
          "text": [
            "Epoch: 0 | Loss: 0.31288138031959534 | Test loss: 0.48106518387794495\n",
            "OrderedDict([('weights', tensor([0.3406])), ('bias', tensor([0.1388]))])\n",
            "Epoch: 10 | Loss: 0.1976713240146637 | Test loss: 0.3463551998138428\n",
            "OrderedDict([('weights', tensor([0.3796])), ('bias', tensor([0.2388]))])\n",
            "Epoch: 20 | Loss: 0.08908725529909134 | Test loss: 0.21729660034179688\n",
            "OrderedDict([('weights', tensor([0.4184])), ('bias', tensor([0.3333]))])\n",
            "Epoch: 30 | Loss: 0.053148526698350906 | Test loss: 0.14464017748832703\n",
            "OrderedDict([('weights', tensor([0.4512])), ('bias', tensor([0.3768]))])\n",
            "Epoch: 40 | Loss: 0.04543796554207802 | Test loss: 0.11360953003168106\n",
            "OrderedDict([('weights', tensor([0.4748])), ('bias', tensor([0.3868]))])\n",
            "Epoch: 50 | Loss: 0.04167863354086876 | Test loss: 0.09919948130846024\n",
            "OrderedDict([('weights', tensor([0.4938])), ('bias', tensor([0.3843]))])\n",
            "Epoch: 60 | Loss: 0.03818932920694351 | Test loss: 0.08886633068323135\n",
            "OrderedDict([('weights', tensor([0.5116])), ('bias', tensor([0.3788]))])\n",
            "Epoch: 70 | Loss: 0.03476089984178543 | Test loss: 0.0805937647819519\n",
            "OrderedDict([('weights', tensor([0.5288])), ('bias', tensor([0.3718]))])\n",
            "Epoch: 80 | Loss: 0.03132382780313492 | Test loss: 0.07232122868299484\n",
            "OrderedDict([('weights', tensor([0.5459])), ('bias', tensor([0.3648]))])\n",
            "Epoch: 90 | Loss: 0.02788739837706089 | Test loss: 0.06473556160926819\n",
            "OrderedDict([('weights', tensor([0.5629])), ('bias', tensor([0.3573]))])\n",
            "Epoch: 100 | Loss: 0.024458957836031914 | Test loss: 0.05646304413676262\n",
            "OrderedDict([('weights', tensor([0.5800])), ('bias', tensor([0.3503]))])\n",
            "Epoch: 110 | Loss: 0.021020207554101944 | Test loss: 0.04819049686193466\n",
            "OrderedDict([('weights', tensor([0.5972])), ('bias', tensor([0.3433]))])\n",
            "Epoch: 120 | Loss: 0.01758546568453312 | Test loss: 0.04060482233762741\n",
            "OrderedDict([('weights', tensor([0.6141])), ('bias', tensor([0.3358]))])\n",
            "Epoch: 130 | Loss: 0.014155393466353416 | Test loss: 0.03233227878808975\n",
            "OrderedDict([('weights', tensor([0.6313])), ('bias', tensor([0.3288]))])\n",
            "Epoch: 140 | Loss: 0.010716589167714119 | Test loss: 0.024059748277068138\n",
            "OrderedDict([('weights', tensor([0.6485])), ('bias', tensor([0.3218]))])\n",
            "Epoch: 150 | Loss: 0.0072835334576666355 | Test loss: 0.016474086791276932\n",
            "OrderedDict([('weights', tensor([0.6654])), ('bias', tensor([0.3143]))])\n",
            "Epoch: 160 | Loss: 0.0038517764769494534 | Test loss: 0.008201557211577892\n",
            "OrderedDict([('weights', tensor([0.6826])), ('bias', tensor([0.3073]))])\n",
            "Epoch: 170 | Loss: 0.008932482451200485 | Test loss: 0.005023092031478882\n",
            "OrderedDict([('weights', tensor([0.6951])), ('bias', tensor([0.2993]))])\n",
            "Epoch: 180 | Loss: 0.008932482451200485 | Test loss: 0.005023092031478882\n",
            "OrderedDict([('weights', tensor([0.6951])), ('bias', tensor([0.2993]))])\n",
            "Epoch: 190 | Loss: 0.008932482451200485 | Test loss: 0.005023092031478882\n",
            "OrderedDict([('weights', tensor([0.6951])), ('bias', tensor([0.2993]))])\n"
          ]
        }
      ]
    },
    {
      "cell_type": "code",
      "source": [
        "# plot the loss curves\n",
        "plt.plot(epoch_count, np.array(torch.tensor(loss_values).numpy()), label=\"Train loss\")\n",
        "plt.plot(epoch_count, test_loss_values,label=\"Test loss\")\n",
        "plt.title(\"Training and test loss curves\")\n",
        "plt.ylabel(\"Loss\")\n",
        "plt.xlabel(\"Epochs\")\n",
        "plt.legend()"
      ],
      "metadata": {
        "id": "IYeN2uVcBXdq",
        "colab": {
          "base_uri": "https://localhost:8080/",
          "height": 489
        },
        "outputId": "9034e2d0-d1ea-4418-889e-e5e6a0e25ad6"
      },
      "execution_count": 20,
      "outputs": [
        {
          "output_type": "execute_result",
          "data": {
            "text/plain": [
              "<matplotlib.legend.Legend at 0x7edb45f39630>"
            ]
          },
          "metadata": {},
          "execution_count": 20
        },
        {
          "output_type": "display_data",
          "data": {
            "text/plain": [
              "<Figure size 640x480 with 1 Axes>"
            ],
            "image/png": "[encoded data removed]"
          },
          "metadata": {}
        }
      ]
    },
    {
      "cell_type": "code",
      "source": [
        "with torch.inference_mode():\n",
        "  y_pred_new = model_0(X_test)\n",
        "y_pred_new"
      ],
      "metadata": {
        "id": "QJSmfjK6xOzF",
        "colab": {
          "base_uri": "https://localhost:8080/"
        },
        "outputId": "8de395ab-23a9-4c36-caaf-3dd4718d71f3"
      },
      "execution_count": 21,
      "outputs": [
        {
          "output_type": "execute_result",
          "data": {
            "text/plain": [
              "tensor([[0.8685],\n",
              "        [0.8825],\n",
              "        [0.8965],\n",
              "        [0.9105],\n",
              "        [0.9245],\n",
              "        [0.9384],\n",
              "        [0.9524],\n",
              "        [0.9664],\n",
              "        [0.9804],\n",
              "        [0.9944]])"
            ]
          },
          "metadata": {},
          "execution_count": 21
        }
      ]
    },
    {
      "cell_type": "code",
      "source": [
        "model_0.state_dict()"
      ],
      "metadata": {
        "id": "vZ6KmG3Xzj0H",
        "colab": {
          "base_uri": "https://localhost:8080/"
        },
        "outputId": "020aceac-148c-4c58-8f3b-755d44cc688a"
      },
      "execution_count": 22,
      "outputs": [
        {
          "output_type": "execute_result",
          "data": {
            "text/plain": [
              "OrderedDict([('weights', tensor([0.6990])), ('bias', tensor([0.3093]))])"
            ]
          },
          "metadata": {},
          "execution_count": 22
        }
      ]
    },
    {
      "cell_type": "code",
      "source": [
        "plot_predictions(predictions=y_pred_new)"
      ],
      "metadata": {
        "id": "Eg1zPTKGzpL8",
        "colab": {
          "base_uri": "https://localhost:8080/",
          "height": 479
        },
        "outputId": "9fed3094-e227-43e1-bc48-cd6c8d8a0e02"
      },
      "execution_count": 23,
      "outputs": [
        {
          "output_type": "display_data",
          "data": {
            "text/plain": [
              "<Figure size 1000x700 with 1 Axes>"
            ],
            "image/png": "[encoded data removed]"
          },
          "metadata": {}
        }
      ]
    },
    {
      "cell_type": "markdown",
      "source": [
        "## Saving a model in PyTorch\n",
        "\n",
        "There are three main methods you should know about saving andloading a model in PyTorch\n",
        "\n",
        "1. `torch.save()` - allows you to save PyTorch object in python **pickle** format -> https://docs.python.org/3/library/pickle.html\n",
        "\n",
        "2. `torch.load()` - allows you load a saved PyTorch object\n",
        "\n",
        "3. `torch.nn.Module.load_state_dict()` - this allows to load a model's saved state dictionary\n",
        "\n",
        "* PyTorch save & load code -> https://pytorch.org/tutorials/beginner/saving_loading_models.html"
      ],
      "metadata": {
        "id": "yQEfc-1OFM9x"
      }
    },
    {
      "cell_type": "code",
      "source": [
        "model_0.state_dict()"
      ],
      "metadata": {
        "id": "U6WktSLMzwji",
        "colab": {
          "base_uri": "https://localhost:8080/"
        },
        "outputId": "1bc22acc-57d6-4f37-d5ec-390fe7dbf141"
      },
      "execution_count": 24,
      "outputs": [
        {
          "output_type": "execute_result",
          "data": {
            "text/plain": [
              "OrderedDict([('weights', tensor([0.6990])), ('bias', tensor([0.3093]))])"
            ]
          },
          "metadata": {},
          "execution_count": 24
        }
      ]
    },
    {
      "cell_type": "code",
      "source": [
        "# Saving our PyTorch model\n",
        "from pathlib import Path\n",
        "\n",
        "# 1.Create models directory\n",
        "MODEL_PATH = Path(\"models\")\n",
        "MODEL_PATH.mkdir(parents=True, exist_ok=True)\n",
        "\n",
        "# 2. Create model save path\n",
        "MODEL_NAME = \"01_PyTorch_Workflow_model_0.pth\"\n",
        "MODEL_SAVE_PATH = MODEL_PATH / MODEL_NAME\n",
        "\n",
        "# 3.save the model state_dict\n",
        "print(f\"Saving model to: {MODEL_SAVE_PATH}\")\n",
        "torch.save(obj=model_0.state_dict(), f=MODEL_SAVE_PATH)"
      ],
      "metadata": {
        "id": "hS90LeFxGy67",
        "colab": {
          "base_uri": "https://localhost:8080/"
        },
        "outputId": "534a5140-1fb6-48ad-f0d6-6ff9595ae80a"
      },
      "execution_count": 25,
      "outputs": [
        {
          "output_type": "stream",
          "name": "stdout",
          "text": [
            "Saving model to: models/01_PyTorch_Workflow_model_0.pth\n"
          ]
        }
      ]
    },
    {
      "cell_type": "code",
      "source": [
        "!ls -l models"
      ],
      "metadata": {
        "id": "TZQjfcaVJOCQ",
        "colab": {
          "base_uri": "https://localhost:8080/"
        },
        "outputId": "129df768-de7f-4cca-c154-1d024879b09f"
      },
      "execution_count": 26,
      "outputs": [
        {
          "output_type": "stream",
          "name": "stdout",
          "text": [
            "total 4\n",
            "-rw-r--r-- 1 root root 1680 Dec  9 14:42 01_PyTorch_Workflow_model_0.pth\n"
          ]
        }
      ]
    },
    {
      "cell_type": "markdown",
      "source": [
        "## Loading a PyTorch model\n",
        "\n",
        "since we saved our model's `state_dict()` rather then the entire model, we'll create new instancce of our model class and load the saved `state_dict()` into that."
      ],
      "metadata": {
        "id": "2MUAkESuLbbi"
      }
    },
    {
      "cell_type": "code",
      "source": [
        "model_0.state_dict()"
      ],
      "metadata": {
        "id": "lD7nNU3sKQ4S",
        "colab": {
          "base_uri": "https://localhost:8080/"
        },
        "outputId": "61dc6ace-b84a-4fa3-edc6-ba5a41d46d65"
      },
      "execution_count": 27,
      "outputs": [
        {
          "output_type": "execute_result",
          "data": {
            "text/plain": [
              "OrderedDict([('weights', tensor([0.6990])), ('bias', tensor([0.3093]))])"
            ]
          },
          "metadata": {},
          "execution_count": 27
        }
      ]
    },
    {
      "cell_type": "code",
      "source": [
        "# To load in a saved state_dict() we have to instentiate a new instnce of our model class\n",
        "loaded_model_0 = LinearRegressionModel()\n",
        "\n",
        "# Load the saved_dict() of model_0 (this will update the new instance with updated parameters)\n",
        "loaded_model_0.load_state_dict(torch.load(f=MODEL_SAVE_PATH))"
      ],
      "metadata": {
        "id": "o8r1kfSoLkTu",
        "colab": {
          "base_uri": "https://localhost:8080/"
        },
        "outputId": "0cb596bb-95e8-43c1-f56b-4a1d03f62f86"
      },
      "execution_count": 28,
      "outputs": [
        {
          "output_type": "execute_result",
          "data": {
            "text/plain": [
              "<All keys matched successfully>"
            ]
          },
          "metadata": {},
          "execution_count": 28
        }
      ]
    },
    {
      "cell_type": "code",
      "source": [
        "loaded_model_0.state_dict()"
      ],
      "metadata": {
        "id": "jKUj4slKMfrE",
        "colab": {
          "base_uri": "https://localhost:8080/"
        },
        "outputId": "0d77c497-783e-4313-9e45-2fc1bc5645ac"
      },
      "execution_count": 29,
      "outputs": [
        {
          "output_type": "execute_result",
          "data": {
            "text/plain": [
              "OrderedDict([('weights', tensor([0.6990])), ('bias', tensor([0.3093]))])"
            ]
          },
          "metadata": {},
          "execution_count": 29
        }
      ]
    },
    {
      "cell_type": "code",
      "source": [
        "# Make some predictions with our loaded model\n",
        "loaded_model_0.eval\n",
        "with torch.inference_mode():\n",
        "  loaded_model_preds = loaded_model_0(X_test)\n",
        "loaded_model_preds"
      ],
      "metadata": {
        "id": "2PRLt6LnMuuL",
        "colab": {
          "base_uri": "https://localhost:8080/"
        },
        "outputId": "713b1f32-1fa7-49a5-f161-7f92f99c5a37"
      },
      "execution_count": 30,
      "outputs": [
        {
          "output_type": "execute_result",
          "data": {
            "text/plain": [
              "tensor([[0.8685],\n",
              "        [0.8825],\n",
              "        [0.8965],\n",
              "        [0.9105],\n",
              "        [0.9245],\n",
              "        [0.9384],\n",
              "        [0.9524],\n",
              "        [0.9664],\n",
              "        [0.9804],\n",
              "        [0.9944]])"
            ]
          },
          "metadata": {},
          "execution_count": 30
        }
      ]
    },
    {
      "cell_type": "code",
      "source": [
        "# Compare loaded model preds with original model preds\n",
        "y_pred_new == loaded_model_preds"
      ],
      "metadata": {
        "id": "2cX_QY6aNIR0",
        "colab": {
          "base_uri": "https://localhost:8080/"
        },
        "outputId": "1f2ca807-b22c-4616-ee9f-98f500266122"
      },
      "execution_count": 31,
      "outputs": [
        {
          "output_type": "execute_result",
          "data": {
            "text/plain": [
              "tensor([[True],\n",
              "        [True],\n",
              "        [True],\n",
              "        [True],\n",
              "        [True],\n",
              "        [True],\n",
              "        [True],\n",
              "        [True],\n",
              "        [True],\n",
              "        [True]])"
            ]
          },
          "metadata": {},
          "execution_count": 31
        }
      ]
    },
    {
      "cell_type": "markdown",
      "source": [
        "## 6. Putting it all together\n",
        "\n",
        "Let's go back through the steps above and see all in one"
      ],
      "metadata": {
        "id": "PWRhQfo1PvcN"
      }
    },
    {
      "cell_type": "code",
      "source": [
        "# Import Pytorch and matplotlib\n",
        "\n",
        "import torch\n",
        "from torch import nn\n",
        "import matplotlib.pyplot as plt\n",
        "# check PyTorch version\n",
        "torch.__version__"
      ],
      "metadata": {
        "id": "_xTMI5CaNQ4F",
        "colab": {
          "base_uri": "https://localhost:8080/",
          "height": 35
        },
        "outputId": "27a3fa79-148b-4488-eabb-c889528951ee"
      },
      "execution_count": 32,
      "outputs": [
        {
          "output_type": "execute_result",
          "data": {
            "text/plain": [
              "'2.1.0+cu118'"
            ],
            "application/vnd.google.colaboratory.intrinsic+json": {
              "type": "string"
            }
          },
          "metadata": {},
          "execution_count": 32
        }
      ]
    },
    {
      "cell_type": "markdown",
      "source": [
        "# Create device-agnostic code.\n",
        "\n",
        "this means if we've got access to a gpu, our code will use it (for potentially faster computing).\n",
        "\n",
        "if no GPU is available, the code will default to using CPU."
      ],
      "metadata": {
        "id": "YHoCaKteQOzo"
      }
    },
    {
      "cell_type": "code",
      "source": [
        "# Setup device agnostic code\n",
        "device = \"cuda\" if torch.cuda.is_available() else \"cpu\"\n",
        "print(f\"Using device: {device}\")"
      ],
      "metadata": {
        "id": "NdHZ1mE5QLRX",
        "colab": {
          "base_uri": "https://localhost:8080/"
        },
        "outputId": "c8994fd9-c92a-419d-ff13-c6e4150ca8e2"
      },
      "execution_count": 33,
      "outputs": [
        {
          "output_type": "stream",
          "name": "stdout",
          "text": [
            "Using device: cuda\n"
          ]
        }
      ]
    },
    {
      "cell_type": "markdown",
      "source": [
        "## 6.1 Data"
      ],
      "metadata": {
        "id": "UC9QWpUkyxCp"
      }
    },
    {
      "cell_type": "code",
      "source": [
        "# Create some data using the linear regression formula of y = weight * X + bias\n",
        "weight = 0.7\n",
        "bais = 0.3\n",
        "\n",
        "# Create renge values\n",
        "start = 0\n",
        "end = 1\n",
        "step = 0.02\n",
        "\n",
        "#Create X and y\n",
        "X = torch.arange(start,end,step).unsqueeze(dim=1)\n",
        "y = weight * X + bais\n",
        "\n",
        "X[:10], y[:10]"
      ],
      "metadata": {
        "id": "S_359i2LQ4uD",
        "colab": {
          "base_uri": "https://localhost:8080/"
        },
        "outputId": "a43984f6-deb6-451b-9af6-ab6f35c8f269"
      },
      "execution_count": 34,
      "outputs": [
        {
          "output_type": "execute_result",
          "data": {
            "text/plain": [
              "(tensor([[0.0000],\n",
              "         [0.0200],\n",
              "         [0.0400],\n",
              "         [0.0600],\n",
              "         [0.0800],\n",
              "         [0.1000],\n",
              "         [0.1200],\n",
              "         [0.1400],\n",
              "         [0.1600],\n",
              "         [0.1800]]),\n",
              " tensor([[0.3000],\n",
              "         [0.3140],\n",
              "         [0.3280],\n",
              "         [0.3420],\n",
              "         [0.3560],\n",
              "         [0.3700],\n",
              "         [0.3840],\n",
              "         [0.3980],\n",
              "         [0.4120],\n",
              "         [0.4260]]))"
            ]
          },
          "metadata": {},
          "execution_count": 34
        }
      ]
    },
    {
      "cell_type": "code",
      "source": [
        "# split data into train test\n",
        "train_split = int(0.8 * len(X))\n",
        "X_train, y_train = X[:train_split], y[:train_split]\n",
        "X_test, y_test = X[train_split:], y[train_split:]\n",
        "len(X_train), len(y_train) , len(X_test), len(y_test)"
      ],
      "metadata": {
        "id": "Lz5krV6Zznqz",
        "colab": {
          "base_uri": "https://localhost:8080/"
        },
        "outputId": "52650668-72f8-4053-e3d5-cdc885ebb0d2"
      },
      "execution_count": 35,
      "outputs": [
        {
          "output_type": "execute_result",
          "data": {
            "text/plain": [
              "(40, 40, 10, 10)"
            ]
          },
          "metadata": {},
          "execution_count": 35
        }
      ]
    },
    {
      "cell_type": "code",
      "source": [
        "# plot the data\n",
        "# note: if you don't have plot_prediction() function loaded, this will error\n",
        "plot_predictions(X_train,y_train,X_test,y_test)"
      ],
      "metadata": {
        "id": "KbqUyguL0JBs",
        "colab": {
          "base_uri": "https://localhost:8080/",
          "height": 479
        },
        "outputId": "9d612216-aa33-4cc7-edc8-97ab41c61377"
      },
      "execution_count": 36,
      "outputs": [
        {
          "output_type": "display_data",
          "data": {
            "text/plain": [
              "<Figure size 1000x700 with 1 Axes>"
            ],
            "image/png": "[encoded data removed]"
          },
          "metadata": {}
        }
      ]
    },
    {
      "cell_type": "markdown",
      "source": [
        "## 6.2 Building a PyTorch Linear Model"
      ],
      "metadata": {
        "id": "_0pOvkJC1Db_"
      }
    },
    {
      "cell_type": "code",
      "source": [
        "# Create a liner model by subclassing nn.Module\n",
        "\n",
        "class LinearRegressionModelV2(nn.Module):\n",
        "  def __init__(self):\n",
        "    super().__init__()\n",
        "    # Use nn.Linear() for creating the model parameters / also called: linear transform, probing layer, fully connected layer\n",
        "    self.linear_layer = nn.Linear(in_features=1,\n",
        "                                  out_features=1)\n",
        "  def forward(self,X: torch.Tensor) -> torch.Tensor:\n",
        "    return self.linear_layer(X)\n",
        "\n",
        "# Set Manual seed\n",
        "torch.manual_seed(42)\n",
        "model_1 = LinearRegressionModelV2()\n",
        "model_1, model_1.state_dict()"
      ],
      "metadata": {
        "id": "21Mlncs-0nB-",
        "colab": {
          "base_uri": "https://localhost:8080/"
        },
        "outputId": "f07687b6-3a57-4d2b-ab1d-17684ed64cc0"
      },
      "execution_count": 37,
      "outputs": [
        {
          "output_type": "execute_result",
          "data": {
            "text/plain": [
              "(LinearRegressionModelV2(\n",
              "   (linear_layer): Linear(in_features=1, out_features=1, bias=True)\n",
              " ),\n",
              " OrderedDict([('linear_layer.weight', tensor([[0.7645]])),\n",
              "              ('linear_layer.bias', tensor([0.8300]))]))"
            ]
          },
          "metadata": {},
          "execution_count": 37
        }
      ]
    },
    {
      "cell_type": "code",
      "source": [
        "# check model current deive\n",
        "next(model_1.parameters()).device"
      ],
      "metadata": {
        "id": "y88B-ivw6e8w",
        "colab": {
          "base_uri": "https://localhost:8080/"
        },
        "outputId": "369d6066-d010-4768-d64d-2dbedad326ef"
      },
      "execution_count": 38,
      "outputs": [
        {
          "output_type": "execute_result",
          "data": {
            "text/plain": [
              "device(type='cpu')"
            ]
          },
          "metadata": {},
          "execution_count": 38
        }
      ]
    },
    {
      "cell_type": "code",
      "source": [
        "# set the model to use target device\n",
        "model_1.to(device)\n",
        "next(model_1.parameters()).device"
      ],
      "metadata": {
        "id": "082ti7Ia4-ct",
        "colab": {
          "base_uri": "https://localhost:8080/"
        },
        "outputId": "21821d84-0d2f-4dc3-8792-9b9053f8f244"
      },
      "execution_count": 39,
      "outputs": [
        {
          "output_type": "execute_result",
          "data": {
            "text/plain": [
              "device(type='cuda', index=0)"
            ]
          },
          "metadata": {},
          "execution_count": 39
        }
      ]
    },
    {
      "cell_type": "markdown",
      "source": [
        "## 6.3 Training\n",
        "\n",
        "For training we need:\n",
        "* Loss function\n",
        "* optimizer\n",
        "* training loop\n",
        "* testing loop"
      ],
      "metadata": {
        "id": "wy9RU1ey6war"
      }
    },
    {
      "cell_type": "code",
      "source": [
        "# setup loss function\n",
        "loss_fn = nn.L1Loss()  # same as MAE\n",
        "\n",
        "# setup optimizer\n",
        "optimizer = torch.optim.SGD(params=model_1.parameters(),\n",
        "                            lr=0.01)\n",
        "\n",
        "# Let's write a training loop\n",
        "torch.manual_seed(42)\n",
        "epochs = 200\n",
        "\n",
        "# Put data on the target device (device agnostic-code for data)\n",
        "X_train = X_train.to(device)\n",
        "y_train = y_train.to(device)\n",
        "X_test = X_test.to(device)\n",
        "y_test = y_test.to(device)\n",
        "\n",
        "for epoch in range (epochs):\n",
        "  # train model\n",
        "  model_1.train()\n",
        "\n",
        "  # 1.forward pass\n",
        "  y_pred = model_1(X_train)\n",
        "\n",
        "  # 2.calculate loss\n",
        "  loss = loss_fn(y_pred,y_train)\n",
        "\n",
        "  # 3.optimizer zero grad\n",
        "  optimizer.zero_grad()\n",
        "\n",
        "  # 4.Perform backpropogation\n",
        "  loss.backward()\n",
        "\n",
        "  # 5.optimizer step\n",
        "  optimizer.step()\n",
        "\n",
        "  ## testing\n",
        "  model_1.eval()\n",
        "  with torch.inference_mode():\n",
        "    test_pred = model_1(X_test)\n",
        "\n",
        "    test_loss = loss_fn(test_pred, y_test)\n",
        "\n",
        "  # Print out what's happening\n",
        "  if epoch % 10 == 0:\n",
        "    print(f\"Epoch: {epoch} | Loss: {loss} | TestLoss: {test_loss}\")"
      ],
      "metadata": {
        "id": "M_pDk8FT6tKd",
        "colab": {
          "base_uri": "https://localhost:8080/"
        },
        "outputId": "9967a09b-82a4-458f-f249-a1a41101a544"
      },
      "execution_count": 40,
      "outputs": [
        {
          "output_type": "stream",
          "name": "stdout",
          "text": [
            "Epoch: 0 | Loss: 0.5551779866218567 | TestLoss: 0.5739762187004089\n",
            "Epoch: 10 | Loss: 0.439968079328537 | TestLoss: 0.4392664134502411\n",
            "Epoch: 20 | Loss: 0.3247582018375397 | TestLoss: 0.30455657839775085\n",
            "Epoch: 30 | Loss: 0.20954833924770355 | TestLoss: 0.16984669864177704\n",
            "Epoch: 40 | Loss: 0.09433845430612564 | TestLoss: 0.03513690456748009\n",
            "Epoch: 50 | Loss: 0.023886388167738914 | TestLoss: 0.04784907028079033\n",
            "Epoch: 60 | Loss: 0.019956795498728752 | TestLoss: 0.045803118497133255\n",
            "Epoch: 70 | Loss: 0.016517987474799156 | TestLoss: 0.037530567497015\n",
            "Epoch: 80 | Loss: 0.013089174404740334 | TestLoss: 0.02994490973651409\n",
            "Epoch: 90 | Loss: 0.009653178043663502 | TestLoss: 0.02167237363755703\n",
            "Epoch: 100 | Loss: 0.006215683650225401 | TestLoss: 0.014086711220443249\n",
            "Epoch: 110 | Loss: 0.00278724217787385 | TestLoss: 0.005814164876937866\n",
            "Epoch: 120 | Loss: 0.0012645035749301314 | TestLoss: 0.013801801018416882\n",
            "Epoch: 130 | Loss: 0.0012645035749301314 | TestLoss: 0.013801801018416882\n",
            "Epoch: 140 | Loss: 0.0012645035749301314 | TestLoss: 0.013801801018416882\n",
            "Epoch: 150 | Loss: 0.0012645035749301314 | TestLoss: 0.013801801018416882\n",
            "Epoch: 160 | Loss: 0.0012645035749301314 | TestLoss: 0.013801801018416882\n",
            "Epoch: 170 | Loss: 0.0012645035749301314 | TestLoss: 0.013801801018416882\n",
            "Epoch: 180 | Loss: 0.0012645035749301314 | TestLoss: 0.013801801018416882\n",
            "Epoch: 190 | Loss: 0.0012645035749301314 | TestLoss: 0.013801801018416882\n"
          ]
        }
      ]
    },
    {
      "cell_type": "code",
      "source": [
        "model_1.state_dict()"
      ],
      "metadata": {
        "id": "PCubMEE29HNm",
        "colab": {
          "base_uri": "https://localhost:8080/"
        },
        "outputId": "cc89ab4c-c349-4197-e7f4-d2672fa5854a"
      },
      "execution_count": 41,
      "outputs": [
        {
          "output_type": "execute_result",
          "data": {
            "text/plain": [
              "OrderedDict([('linear_layer.weight', tensor([[0.6968]], device='cuda:0')),\n",
              "             ('linear_layer.bias', tensor([0.3025], device='cuda:0'))])"
            ]
          },
          "metadata": {},
          "execution_count": 41
        }
      ]
    },
    {
      "cell_type": "code",
      "source": [
        "weight, bias"
      ],
      "metadata": {
        "id": "57UMKfQV9c7t",
        "colab": {
          "base_uri": "https://localhost:8080/"
        },
        "outputId": "e07f362e-18b0-4d97-8b34-bc7741e18796"
      },
      "execution_count": 42,
      "outputs": [
        {
          "output_type": "execute_result",
          "data": {
            "text/plain": [
              "(0.7, 0.3)"
            ]
          },
          "metadata": {},
          "execution_count": 42
        }
      ]
    },
    {
      "cell_type": "markdown",
      "source": [
        "## 6.4 Making and evaluating predictions"
      ],
      "metadata": {
        "id": "aULDeJqV-D9V"
      }
    },
    {
      "cell_type": "code",
      "source": [
        "# Turn model into evaluateing mode\n",
        "model_1.eval()\n",
        "\n",
        "# Make predictions on the test data\n",
        "with torch.inference_mode():\n",
        "  y_preds = model_1(X_test)\n",
        "y_preds"
      ],
      "metadata": {
        "id": "PNym_GU99lw2",
        "colab": {
          "base_uri": "https://localhost:8080/"
        },
        "outputId": "a6a7b961-b319-496f-c646-ca89764c44b7"
      },
      "execution_count": 43,
      "outputs": [
        {
          "output_type": "execute_result",
          "data": {
            "text/plain": [
              "tensor([[0.8600],\n",
              "        [0.8739],\n",
              "        [0.8878],\n",
              "        [0.9018],\n",
              "        [0.9157],\n",
              "        [0.9296],\n",
              "        [0.9436],\n",
              "        [0.9575],\n",
              "        [0.9714],\n",
              "        [0.9854]], device='cuda:0')"
            ]
          },
          "metadata": {},
          "execution_count": 43
        }
      ]
    },
    {
      "cell_type": "code",
      "source": [
        "plot_predictions(predictions=y_preds.cpu())"
      ],
      "metadata": {
        "id": "BSd44Lfv-a9r",
        "colab": {
          "base_uri": "https://localhost:8080/",
          "height": 479
        },
        "outputId": "00d137cf-21c2-472b-c026-21ce569ec91b"
      },
      "execution_count": 44,
      "outputs": [
        {
          "output_type": "display_data",
          "data": {
            "text/plain": [
              "<Figure size 1000x700 with 1 Axes>"
            ],
            "image/png": "[encoded data removed]"
          },
          "metadata": {}
        }
      ]
    },
    {
      "cell_type": "markdown",
      "source": [
        "## 6.5 Saving and loading model a trained model"
      ],
      "metadata": {
        "id": "kxfeEvj9_DhZ"
      }
    },
    {
      "cell_type": "code",
      "source": [
        "# saving model\n",
        "from pathlib import Path\n",
        "\n",
        "# 1. Create models directory\n",
        "MODEL_PATH = Path(\"models\")\n",
        "MODEL_PATH.mkdir(parents=True, exist_ok=True)\n",
        "\n",
        "# 2. Create model save path\n",
        "MODEL_NAME = \"01_pytorch_workflow_model_1.pth\"\n",
        "MODEL_SAVE_PATH = MODEL_PATH / MODEL_NAME\n",
        "\n",
        "# 3. save the model state dict\n",
        "print(f\"Saving model to: {MODEL_SAVE_PATH}\")\n",
        "torch.save(obj=model_1.state_dict(),\n",
        "           f=MODEL_SAVE_PATH)"
      ],
      "metadata": {
        "id": "FhxdJy9i-qnY",
        "colab": {
          "base_uri": "https://localhost:8080/"
        },
        "outputId": "00924ddf-4172-46ca-ceec-dd26be1d1e1a"
      },
      "execution_count": 45,
      "outputs": [
        {
          "output_type": "stream",
          "name": "stdout",
          "text": [
            "Saving model to: models/01_pytorch_workflow_model_1.pth\n"
          ]
        }
      ]
    },
    {
      "cell_type": "code",
      "source": [
        "model_1.state_dict()"
      ],
      "metadata": {
        "id": "mC51Fts3FUhZ",
        "colab": {
          "base_uri": "https://localhost:8080/"
        },
        "outputId": "d2ad3bd1-ba7d-4cff-a6ad-822e29ac0ea7"
      },
      "execution_count": 46,
      "outputs": [
        {
          "output_type": "execute_result",
          "data": {
            "text/plain": [
              "OrderedDict([('linear_layer.weight', tensor([[0.6968]], device='cuda:0')),\n",
              "             ('linear_layer.bias', tensor([0.3025], device='cuda:0'))])"
            ]
          },
          "metadata": {},
          "execution_count": 46
        }
      ]
    },
    {
      "cell_type": "code",
      "source": [
        "# Load a PyTorch model\n",
        "\n",
        "# Create a new instance of linear regression model v2\n",
        "loaded_model_1 = LinearRegressionModelV2()\n",
        "\n",
        "# Load the saved model_1 save dict\n",
        "loaded_model_1.load_state_dict(torch.load(MODEL_SAVE_PATH))\n",
        "\n",
        "# Put the loaded model to device\n",
        "loaded_model_1.to(device)"
      ],
      "metadata": {
        "id": "yN6O39VS_x4W",
        "colab": {
          "base_uri": "https://localhost:8080/"
        },
        "outputId": "23d333ac-b49a-4dea-b7fb-00d98368018d"
      },
      "execution_count": 47,
      "outputs": [
        {
          "output_type": "execute_result",
          "data": {
            "text/plain": [
              "LinearRegressionModelV2(\n",
              "  (linear_layer): Linear(in_features=1, out_features=1, bias=True)\n",
              ")"
            ]
          },
          "metadata": {},
          "execution_count": 47
        }
      ]
    },
    {
      "cell_type": "code",
      "source": [
        "next(loaded_model_1.parameters()).device"
      ],
      "metadata": {
        "id": "9pmkl2feA3SW",
        "colab": {
          "base_uri": "https://localhost:8080/"
        },
        "outputId": "02263050-1efc-44e6-d738-f7aa833f6ee5"
      },
      "execution_count": 48,
      "outputs": [
        {
          "output_type": "execute_result",
          "data": {
            "text/plain": [
              "device(type='cuda', index=0)"
            ]
          },
          "metadata": {},
          "execution_count": 48
        }
      ]
    },
    {
      "cell_type": "code",
      "source": [
        "loaded_model_1.state_dict()"
      ],
      "metadata": {
        "colab": {
          "base_uri": "https://localhost:8080/"
        },
        "id": "aXQi9rXdCGV5",
        "outputId": "3c42d3e9-59e9-4d2b-bcbc-eb8c504629f8"
      },
      "execution_count": 49,
      "outputs": [
        {
          "output_type": "execute_result",
          "data": {
            "text/plain": [
              "OrderedDict([('linear_layer.weight', tensor([[0.6968]], device='cuda:0')),\n",
              "             ('linear_layer.bias', tensor([0.3025], device='cuda:0'))])"
            ]
          },
          "metadata": {},
          "execution_count": 49
        }
      ]
    },
    {
      "cell_type": "code",
      "source": [
        "#Evaluate loaded model\n",
        "loaded_model_1.eval()\n",
        "with torch.inference_mode():\n",
        "  loaded_model_1_preds = loaded_model_1(X_test)\n",
        "y_preds == loaded_model_1_preds"
      ],
      "metadata": {
        "colab": {
          "base_uri": "https://localhost:8080/"
        },
        "id": "r5ke6y_vCJlx",
        "outputId": "16b46402-e8a5-44b7-9f7e-e14ff585142b"
      },
      "execution_count": 50,
      "outputs": [
        {
          "output_type": "execute_result",
          "data": {
            "text/plain": [
              "tensor([[True],\n",
              "        [True],\n",
              "        [True],\n",
              "        [True],\n",
              "        [True],\n",
              "        [True],\n",
              "        [True],\n",
              "        [True],\n",
              "        [True],\n",
              "        [True]], device='cuda:0')"
            ]
          },
          "metadata": {},
          "execution_count": 50
        }
      ]
    }
  ]
}